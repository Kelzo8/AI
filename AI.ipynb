{
  "nbformat": 4,
  "nbformat_minor": 0,
  "metadata": {
    "colab": {
      "provenance": [],
      "include_colab_link": true
    },
    "kernelspec": {
      "name": "python3",
      "display_name": "Python 3"
    },
    "language_info": {
      "name": "python"
    }
  },
  "cells": [
    {
      "cell_type": "markdown",
      "metadata": {
        "id": "view-in-github",
        "colab_type": "text"
      },
      "source": [
        "<a href=\"https://colab.research.google.com/github/Kelzo8/AI/blob/main/AI.ipynb\" target=\"_parent\"><img src=\"https://colab.research.google.com/assets/colab-badge.svg\" alt=\"Open In Colab\"/></a>"
      ]
    },
    {
      "cell_type": "code",
      "source": [
        "import pandas as pd\n",
        "import numpy as np\n",
        "import matplotlib.pyplot as plt\n",
        "import seaborn as sns\n",
        "from sklearn.preprocessing import StandardScaler, LabelEncoder\n",
        "from sklearn.model_selection import train_test_split\n",
        "from tensorflow.keras.models import Sequential\n",
        "from tensorflow.keras.layers import Dense, Dropout"
      ],
      "metadata": {
        "id": "91GjA8-tuO3y"
      },
      "execution_count": null,
      "outputs": []
    },
    {
      "cell_type": "code",
      "source": [
        "# Load dataset\n",
        "df = pd.read_csv(\"/content/Sleep_health_and_lifestyle_dataset.csv\")\n",
        "\n",
        "# Display dataset information\n",
        "df.info()\n",
        "df.head()"
      ],
      "metadata": {
        "id": "b74bNxDfuPFm"
      },
      "execution_count": null,
      "outputs": []
    },
    {
      "cell_type": "code",
      "source": [
        "# Helps visualize whether sleep duration impacts sleep quality.\n",
        "df.plot(kind='scatter', x='Sleep Duration', y='Quality of Sleep', s=32, alpha=.8)\n",
        "plt.gca().spines[['top', 'right']].set_visible(False)\n",
        "\n",
        "# Shows how sleep duration is distributed among individuals.\n",
        "plt.figure(figsize=(8, 5))\n",
        "sns.histplot(df[\"Sleep Duration\"], bins=20, kde=True, color=\"blue\")\n",
        "plt.title(\"Distribution of Sleep Duration\")\n",
        "plt.xlabel(\"Sleep Duration (hours)\")\n",
        "plt.ylabel(\"Count\")\n",
        "plt.show()"
      ],
      "metadata": {
        "id": "sNrmPFxiuPKa"
      },
      "execution_count": null,
      "outputs": []
    },
    {
      "cell_type": "code",
      "source": [
        "# Helps see how stress affects sleep duration.\n",
        "plt.figure(figsize=(8, 5))\n",
        "sns.boxplot(data=df, x=\"Stress Level\", y=\"Sleep Duration\", palette=\"coolwarm\")\n",
        "plt.title(\"Stress Level vs. Sleep Duration\")\n",
        "plt.xlabel(\"Stress Level\")\n",
        "plt.ylabel(\"Sleep Duration (hours)\")\n",
        "plt.show()"
      ],
      "metadata": {
        "id": "mAnIi83IuPPL"
      },
      "execution_count": null,
      "outputs": []
    },
    {
      "cell_type": "code",
      "source": [
        "# Displays how sleep disorders vary between genders.\n",
        "plt.figure(figsize=(8, 5))\n",
        "sns.countplot(data=df, x=\"Gender\", hue=\"Sleep Disorder\", palette=\"viridis\")\n",
        "plt.title(\"Sleep Disorder Count by Gender\")\n",
        "plt.xlabel(\"Gender\")\n",
        "plt.ylabel(\"Count\")\n",
        "plt.legend(title=\"Sleep Disorder\")\n",
        "plt.show()"
      ],
      "metadata": {
        "id": "5BHNbPiXuPRg"
      },
      "execution_count": null,
      "outputs": []
    },
    {
      "cell_type": "code",
      "source": [
        "# Drop Person ID since it's not a relevant feature\n",
        "df = df.drop(columns=[\"Person ID\"])\n",
        "\n",
        "# Encode categorical variables\n",
        "label_enc = LabelEncoder()\n",
        "df[\"Gender\"] = label_enc.fit_transform(df[\"Gender\"])\n",
        "df[\"BMI Category\"] = label_enc.fit_transform(df[\"BMI Category\"])\n",
        "df[\"Occupation\"] = label_enc.fit_transform(df[\"Occupation\"])\n",
        "\n",
        "# Define features and target variable\n",
        "X = df.drop(columns=[\"Quality of Sleep\"]).values\n",
        "y = df[\"Quality of Sleep\"].values"
      ],
      "metadata": {
        "id": "ljV-zwI5uPT2"
      },
      "execution_count": null,
      "outputs": []
    },
    {
      "cell_type": "code",
      "source": [
        "# Scale features\n",
        "scaler = StandardScaler()\n",
        "X = scaler.fit_transform(X)\n",
        "\n",
        "# Split data into training and testing sets\n",
        "X_train, X_test, y_train, y_test = train_test_split(X, y, test_size=0.2, random_state=42)"
      ],
      "metadata": {
        "id": "K_aCeV13uPWC"
      },
      "execution_count": null,
      "outputs": []
    },
    {
      "cell_type": "code",
      "source": [
        "# Define neural network model\n",
        "model = Sequential([\n",
        "    Dense(128, activation='relu', input_shape=(X_train.shape[1],)),\n",
        "    Dense(64, activation='relu'),\n",
        "    Dense(32, activation='relu'),\n",
        "    Dense(16, activation='relu'),\n",
        "    Dense(1, activation='linear')  # Regression output\n",
        "])\n",
        "\n",
        "# Compile model\n",
        "model.compile(optimizer='adam', loss='mse', metrics=['mae'])\n",
        "\n",
        "# Train model\n",
        "history = model.fit(X_train, y_train, validation_data=(X_test, y_test), epochs=100, batch_size=32, verbose=1)\n",
        "\n",
        "# Evaluate model\n",
        "loss, mae = model.evaluate(X_test, y_test)\n",
        "print(f\"Test MAE: {mae}\")"
      ],
      "metadata": {
        "id": "QzLuBrYpuPbG"
      },
      "execution_count": null,
      "outputs": []
    },
    {
      "cell_type": "code",
      "source": [],
      "metadata": {
        "id": "dIk0cvPwuPdO"
      },
      "execution_count": null,
      "outputs": []
    }
  ]
}